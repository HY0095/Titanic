{
 "cells": [
  {
   "cell_type": "code",
   "execution_count": 11,
   "metadata": {
    "collapsed": false
   },
   "outputs": [],
   "source": [
    "import pandas as pd"
   ]
  },
  {
   "cell_type": "code",
   "execution_count": 12,
   "metadata": {
    "collapsed": true
   },
   "outputs": [],
   "source": [
    "train = pd.read_csv(\"/home/dzn/Kaggle/Titanic/Data/train.csv\")\n",
    "test  = pd.read_csv(\"/home/dzn/Kaggle/Titanic/Data/test.csv\")"
   ]
  },
  {
   "cell_type": "code",
   "execution_count": 15,
   "metadata": {
    "collapsed": false
   },
   "outputs": [],
   "source": [
    "features = ['Pclass', 'Sex', 'Age', 'Embarked', 'SibSp', 'Parch', 'Fare']"
   ]
  },
  {
   "cell_type": "code",
   "execution_count": 16,
   "metadata": {
    "collapsed": true
   },
   "outputs": [],
   "source": [
    "x_train = train[features]\n",
    "x_test = test[features]\n",
    "y_train = train['Survived']"
   ]
  },
  {
   "cell_type": "code",
   "execution_count": 20,
   "metadata": {
    "collapsed": false
   },
   "outputs": [
    {
     "name": "stderr",
     "output_type": "stream",
     "text": [
      "/usr/lib/python2.7/site-packages/pandas-0.19.1-py2.7-linux-x86_64.egg/pandas/core/generic.py:3295: SettingWithCopyWarning: \n",
      "A value is trying to be set on a copy of a slice from a DataFrame\n",
      "\n",
      "See the caveats in the documentation: http://pandas.pydata.org/pandas-docs/stable/indexing.html#indexing-view-versus-copy\n",
      "  self._update_inplace(new_data)\n"
     ]
    }
   ],
   "source": [
    "x_train['Embarked'].fillna('S', inplace = True)\n",
    "x_test['Embarked'].fillna('S', inplace = True)"
   ]
  },
  {
   "cell_type": "code",
   "execution_count": 23,
   "metadata": {
    "collapsed": false
   },
   "outputs": [],
   "source": [
    "x_train['Age'].fillna(x_train['Age'].mean(), inplace = True)\n",
    "x_test['Age'].fillna(x_test['Age'].mean(), inplace = True)\n",
    "x_test['Fare'].fillna(x_test['Fare'].mean(), inplace = True)"
   ]
  },
  {
   "cell_type": "code",
   "execution_count": null,
   "metadata": {
    "collapsed": true
   },
   "outputs": [],
   "source": [
    "class optmizeGrouping(object):\n",
    "    \n",
    "    def optimzegrouping(datafile, xname, target):\n",
    "        \n",
    "        data = pd.read_csv(datafile)\n",
    "        dataname = datafile.split(\"/\")[-1].split(\".\")[0]\n",
    "        datapath = datafile.split(dataname)[:-1][0]\n",
    "        sqlpath = datapath+dataname+\"/grouping_info.sql\"\n",
    "        woepath = datapath+dataname+\"/woe_info.xlsx\"\n",
    "        \n",
    "        \n",
    "        sqlfile = codecs.open(sqlpath, 'w')\n",
    "        \n",
    "        workbook = xlsxwriter.Workbook(woepath)\n",
    "        format=workbook.add_format() \n",
    "        format.set_border(1) \n",
    "        format_title=workbook.add_format() \n",
    "        format_title.set_border(2) \n",
    "        format_title.set_bg_color('#cccccc') \n",
    "            \n",
    "        format_title.set_align('center') \n",
    "        format_title.set_bold() \n",
    "        format_title.set_num_format('00000000') \n",
    "        \n",
    "        format_ave=workbook.add_format() \n",
    "        format_ave.set_border(1) \n",
    "        format_ave.set_num_format('0.00') \n",
    "        \n",
    "        #IV_table = pd.DataFrame()\n",
    "        IV_list = list()\n",
    "        for i, xname in enumerate(xnames):\n",
    "            ds = data[[target, xname]]\n",
    "            g  = prebin(data, xname, target, method = 'quantile')\n",
    "            aa = g.binning()\n",
    "            x_bin = xname+\"_bin\"\n",
    "            print(\"Xname = \" + xname)\n",
    "            print(aa[1])\n",
    "            bbb = self.grouping(aa, target, x_bin,i, mingroupsize = 0.02)\n",
    "            cvb = bbb.calwoe()\n",
    "            #print(\"xname = \" + xname)\n",
    "            #print(cvb)\n",
    "            #aa[0]\n",
    "            os.system(\"rm -rf \"+x_bin[:-4]+'.png')\n",
    "            IV_list.append(cvb[1])\n",
    "        worksheet1  = workbook.add_worksheet(\"IV\")\n",
    "        worksheet1.write_row(0, 0, [\"Vars\", \"IV\"], format_title)\n",
    "        worksheet1.write_column(1, 0, xnames, format)\n",
    "        worksheet1.write_column(1, 1, IV_list, format)\n",
    "        workbook.close()\n",
    "       "
   ]
  }
 ],
 "metadata": {
  "kernelspec": {
   "display_name": "Python 2",
   "language": "python",
   "name": "python2"
  },
  "language_info": {
   "codemirror_mode": {
    "name": "ipython",
    "version": 2
   },
   "file_extension": ".py",
   "mimetype": "text/x-python",
   "name": "python",
   "nbconvert_exporter": "python",
   "pygments_lexer": "ipython2",
   "version": "2.7.5"
  }
 },
 "nbformat": 4,
 "nbformat_minor": 1
}
